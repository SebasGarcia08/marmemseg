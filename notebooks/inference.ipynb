{
 "cells": [
  {
   "cell_type": "code",
   "execution_count": 7,
   "metadata": {},
   "outputs": [
    {
     "name": "stdout",
     "output_type": "stream",
     "text": [
      "load checkpoint from local path: ../models/finetuned/pspnet/latest.pth\n",
      "Load model done\n"
     ]
    },
    {
     "data": {
      "text/plain": [
       "[array([[2, 2, 2, ..., 2, 2, 2],\n",
       "        [2, 2, 2, ..., 2, 2, 2],\n",
       "        [2, 2, 2, ..., 2, 2, 2],\n",
       "        ...,\n",
       "        [1, 1, 1, ..., 1, 1, 1],\n",
       "        [1, 1, 1, ..., 1, 1, 1],\n",
       "        [1, 1, 1, ..., 1, 1, 1]])]"
      ]
     },
     "execution_count": 7,
     "metadata": {},
     "output_type": "execute_result"
    }
   ],
   "source": [
    "from marsemseg.segmentors import ISegmentation\n",
    "from pathlib import Path\n",
    "import numpy as np\n",
    "\n",
    "config_file = Path(\"../configs/models/finetuend_pspnet_r50-d8_512x1024_40k_cityscapes.py\")\n",
    "checkpoint_file = Path('../models/finetuned/pspnet/latest.pth')\n",
    "segmentor = ISegmentation(\n",
    "    config_file, \n",
    "    input_size=(512, 384), \n",
    "    device='cuda:0',\n",
    "    half=True\n",
    ")\n",
    "\n",
    "segmentor.initialize(checkpoint_file)\n",
    "segmentor.segmentation(np.zeros((512, 384, 3)))"
   ]
  }
 ],
 "metadata": {
  "kernelspec": {
   "display_name": "Python 3.8.13 ('marmemseg')",
   "language": "python",
   "name": "python3"
  },
  "language_info": {
   "codemirror_mode": {
    "name": "ipython",
    "version": 3
   },
   "file_extension": ".py",
   "mimetype": "text/x-python",
   "name": "python",
   "nbconvert_exporter": "python",
   "pygments_lexer": "ipython3",
   "version": "3.8.13"
  },
  "orig_nbformat": 4,
  "vscode": {
   "interpreter": {
    "hash": "3dba2ad307cb77b0a0678c75786368e91fc8340e4bd827f1471ecf8ddc91a086"
   }
  }
 },
 "nbformat": 4,
 "nbformat_minor": 2
}
